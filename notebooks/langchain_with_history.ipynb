{
  "cells": [
    {
      "cell_type": "code",
      "execution_count": 2,
      "id": "8fc18303",
      "metadata": {},
      "outputs": [],
      "source": [
        "import os\n",
        "import sys\n",
        "\n",
        "sys.path.append(os.path.abspath(os.path.join(os.getcwd(), os.pardir)))"
      ]
    },
    {
      "cell_type": "code",
      "execution_count": 3,
      "id": "a1b28711-6147-40df-932f-10b1b45bc24d",
      "metadata": {},
      "outputs": [],
      "source": [
        "from core.ai.memories.postgre_memory import PostgreChatMemoryMessage\n"
      ]
    },
    {
      "cell_type": "code",
      "execution_count": 5,
      "id": "77f0992a-7cb1-43fb-b029-5bf2dbf07d9e",
      "metadata": {},
      "outputs": [
        {
          "name": "stderr",
          "output_type": "stream",
          "text": [
            "/Users/ngahoang/Documents/workspace/personal/github/langchain-chat-bot/core/ai/memories/postgre_memory.py:26: LangChainDeprecationWarning: `connection_string` was deprecated in LangChain 0.2.2 and will be removed in 1.0. Use connection instead.\n",
            "  cls._instances[session_id] = cls(session_id)\n"
          ]
        }
      ],
      "source": [
        "channel = 'D04Q8KQ55QD'\n",
        "memory = PostgreChatMemoryMessage.get_instance(channel)"
      ]
    },
    {
      "cell_type": "code",
      "execution_count": 18,
      "id": "73bcbdab-bf47-4e13-b7b9-123d4c512c05",
      "metadata": {},
      "outputs": [],
      "source": [
        "memory.update_memory()"
      ]
    },
    {
      "cell_type": "code",
      "execution_count": 19,
      "id": "539d978d",
      "metadata": {},
      "outputs": [
        {
          "data": {
            "text/plain": [
              "[HumanMessage(content='With the current temperature in Da Nang city, which restaurant in shopee do you recommend?', additional_kwargs={}, response_metadata={}),\n",
              " AIMessage(content=\"With the current temperature in Da Nang at a lovely 23.2\u00b0C, here are some restaurant recommendations from Shopee that you might enjoy:\\n\\n1. **Thai Market Restaurant**\\n   - Address: 183 Nguy\u1ec5n V\u0103n Tho\u1ea1i, P. M\u1ef9 An, Qu\u1eadn Ng\u0169 H\u00e0nh S\u01a1n, \u0110\u00e0 N\u1eb5ng\\n   - [Check it out here!](https://shopeefood.vn/da-nang/thai-market-restaurant-183-nguyen-van-thoai)\\n\\n2. **Al Fresco's - Pizza, M\u1ef3 \u00dd, S\u01b0\u1eddn, Steak B\u00f2 B\u00edt T\u1ebft**\\n   - Address: 515 Tr\u1ea7n H\u01b0ng \u0110\u1ea1o, Qu\u1eadn S\u01a1n Tr\u00e0, \u0110\u00e0 N\u1eb5ng\\n   - [Check it out here!](https://shopeefood.vn/da-nang/al-fresco-s-pizza-my-y-suon-steak-bo-bit-tet-tran-hung-dao)\\n\\n3. **Taste Pizza & Burger**\\n   - Address: K67/31 L\u00ea Tr\u1ecdng T\u1ea5n, P. Ho\u00e0 Ph\u00e1t, Qu\u1eadn C\u1ea9m L\u1ec7, \u0110\u00e0 N\u1eb5ng\\n   - [Check it out here!](https://shopeefood.vn/da-nang/taste-pizza-burger-le-trong-tan)\\n\\n4. **Gapella - Pizza & Steak**\\n   - Address: 379 Tr\u1ea7n H\u01b0ng \u0110\u1ea1o, P. An H\u1ea3i Trung, Qu\u1eadn S\u01a1n Tr\u00e0, \u0110\u00e0 N\u1eb5ng\\n   - [Check it out here!](https://shopeefood.vn/da-nang/gapella-pizza-steak-tran-hung-dao)\\n\\n5. **\u00c0 Ngon - Onigiri, Bread & Drinks**\\n   - Address: 360 Ho\u00e0ng Di\u1ec7u, P. B\u00ecnh Thu\u1eadn, Qu\u1eadn H\u1ea3i Ch\u00e2u, \u0110\u00e0 N\u1eb5ng\\n   - [Check it out here!](https://shopeefood.vn/da-nang/a-ngon-onigiri-bread-drinks)\\n\\nPick one that tickles your taste buds! \ud83c\udf55\ud83c\udf54\", additional_kwargs={}, response_metadata={}),\n",
              " HumanMessage(content='v\u1edbi th\u1eddi ti\u1ebft hi\u1ec7n t\u1ea1i c\u1ee7a \u0110\u00e0 N\u1eb5ng th\u00ec ch\u00fang t\u00f4i n\u00ean \u0111i \u0103n m\u00f3n g\u00ec?', additional_kwargs={}, response_metadata={}),\n",
              " AIMessage(content='V\u1edbi th\u1eddi ti\u1ebft hi\u1ec7n t\u1ea1i \u1edf \u0110\u00e0 N\u1eb5ng l\u00e0 23.2\u00b0C, th\u1eddi ti\u1ebft kh\u00e1 d\u1ec5 ch\u1ecbu, b\u1ea1n c\u00f3 th\u1ec3 th\u01b0\u1edfng th\u1ee9c m\u1ed9t s\u1ed1 m\u00f3n \u0103n sau:\\n\\n1. **M\u00ec Qu\u1ea3ng**: M\u1ed9t m\u00f3n \u0111\u1eb7c s\u1ea3n n\u1ed5i ti\u1ebfng c\u1ee7a \u0110\u00e0 N\u1eb5ng, m\u00ec Qu\u1ea3ng c\u00f3 h\u01b0\u01a1ng v\u1ecb \u0111\u1eadm \u0111\u00e0, th\u01b0\u1eddng \u0111\u01b0\u1ee3c \u0103n k\u00e8m v\u1edbi t\u00f4m, th\u1ecbt g\u00e0 ho\u1eb7c th\u1ecbt heo.\\n\\n2. **B\u00e1nh tr\u00e1ng cu\u1ed1n th\u1ecbt heo**: M\u00f3n \u0103n n\u00e0y r\u1ea5t ngon v\u00e0 d\u1ec5 \u0103n, b\u1ea1n c\u00f3 th\u1ec3 cu\u1ed1n b\u00e1nh tr\u00e1ng v\u1edbi th\u1ecbt heo, rau s\u1ed1ng v\u00e0 ch\u1ea5m v\u1edbi m\u1eafm n\u00eam.\\n\\n3. **H\u1ea3i s\u1ea3n t\u01b0\u01a1i s\u1ed1ng**: V\u1edbi kh\u00ed h\u1eadu m\u00e1t m\u1ebb, th\u01b0\u1edfng th\u1ee9c h\u1ea3i s\u1ea3n t\u01b0\u01a1i s\u1ed1ng nh\u01b0 gh\u1eb9, t\u00f4m, m\u1ef1c n\u01b0\u1edbng ho\u1eb7c h\u1ea5p s\u1ebd l\u00e0 m\u1ed9t l\u1ef1a ch\u1ecdn tuy\u1ec7t v\u1eddi.\\n\\n4. **B\u00e1nh x\u00e8o**: M\u00f3n b\u00e1nh x\u00e8o gi\u00f2n r\u1ee5m, nh\u00e2n t\u00f4m, th\u1ecbt v\u00e0 gi\u00e1 \u0111\u1ed7, \u0103n k\u00e8m v\u1edbi rau s\u1ed1ng v\u00e0 n\u01b0\u1edbc ch\u1ea5m.\\n\\n5. **Ch\u00e8**: \u0110\u1ec3 gi\u1ea3i nhi\u1ec7t, b\u1ea1n c\u00f3 th\u1ec3 th\u01b0\u1edfng th\u1ee9c m\u1ed9t ly ch\u00e8 m\u00e1t l\u1ea1nh, c\u00f3 th\u1ec3 l\u00e0 ch\u00e8 \u0111\u1eadu xanh, ch\u00e8 b\u01b0\u1edfi ho\u1eb7c ch\u00e8 th\u1eadp c\u1ea9m.\\n\\nCh\u00fac b\u1ea1n c\u00f3 m\u1ed9t b\u1eefa \u0103n ngon mi\u1ec7ng v\u00e0 th\u00fa v\u1ecb! \ud83c\udf7d\ufe0f', additional_kwargs={}, response_metadata={}),\n",
              " HumanMessage(content='t\u1ed1i mu\u1ed1n b\u1ea1n ki\u1ec3m tra th\u1eddi ti\u1ebft hi\u1ec7n t\u1ea1i \u1edf \u0110\u00e0 N\u1eb5ng v\u00e0 sau \u0111\u00f3 t\u00ecm ki\u1ebfm nh\u00e0 h\u00e0ng tr\u00ean shoppe', additional_kwargs={}, response_metadata={}),\n",
              " AIMessage(content='Hi\u1ec7n t\u1ea1i, nhi\u1ec7t \u0111\u1ed9 \u1edf \u0110\u00e0 N\u1eb5ng l\u00e0 28.3\u00b0C, kh\u00e1 \u1ea5m \u00e1p cho m\u1ed9t bu\u1ed5i t\u1ed1i th\u00fa v\u1ecb! D\u01b0\u1edbi \u0111\u00e2y l\u00e0 m\u1ed9t s\u1ed1 nh\u00e0 h\u00e0ng b\u1ea1n c\u00f3 th\u1ec3 tham kh\u1ea3o tr\u00ean Shopee:\\n\\n1. **Nh\u00e0 H\u00e0ng Chay Ng\u1ecdc Chi**\\n   - \u0110\u1ecba ch\u1ec9: 202 Ho\u00e0ng Di\u1ec7u, P. Nam D\u01b0\u01a1ng, Qu\u1eadn H\u1ea3i Ch\u00e2u, \u0110\u00e0 N\u1eb5ng\\n   - [Xem chi ti\u1ebft t\u1ea1i \u0111\u00e2y!](https://shopeefood.vn/da-nang/quan-chay-ngoc-chi)\\n\\n2. **B\u00fan Ch\u1ea3 H\u00e0 N\u1ed9i TH\u1eca MAY**\\n   - \u0110\u1ecba ch\u1ec9: 77 Ng\u00f4 Quang Huy, P. Ph\u01b0\u1edbc M\u1ef9, Qu\u1eadn S\u01a1n Tr\u00e0, \u0110\u00e0 N\u1eb5ng\\n   - [Xem chi ti\u1ebft t\u1ea1i \u0111\u00e2y!](https://shopeefood.vn/da-nang/bun-cha-ha-noi-thi-may)\\n\\n3. **Ti\u1ec7m \u0102n Ch\u1ee3 L\u1edbn - Ho\u00e0ng Di\u1ec7u**\\n   - \u0110\u1ecba ch\u1ec9: 232 Ho\u00e0ng Di\u1ec7u, Qu\u1eadn H\u1ea3i Ch\u00e2u, \u0110\u00e0 N\u1eb5ng\\n   - [Xem chi ti\u1ebft t\u1ea1i \u0111\u00e2y!](https://shopeefood.vn/da-nang/tiem-an-cho-lon-hoang-dieu)\\n\\n4. **Ph\u01b0\u01a1ng Food - G\u00e0 Chi\u00ean M\u1eafm & \u0102n V\u1eb7t**\\n   - \u0110\u1ecba ch\u1ec9: 288 \u0110\u1ed1ng \u0110a, P. Thanh B\u00ecnh, Qu\u1eadn H\u1ea3i Ch\u00e2u, \u0110\u00e0 N\u1eb5ng\\n   - [Xem chi ti\u1ebft t\u1ea1i \u0111\u00e2y!](https://shopeefood.vn/da-nang/phuong-food-ga-chien-mam-an-vat)\\n\\n5. **B\u00fan \u0110\u1eadu H\u00e0ng Khay - T\u00f4n \u0110\u1ee9c Th\u1eafng**\\n   - \u0110\u1ecba ch\u1ec9: 583 T\u00f4n \u0110\u1ee9c Th\u1eafng, P. H\u00f2a Kh\u00e1nh B\u1eafc, Qu\u1eadn Li\u00ean Chi\u1ec3u, \u0110\u00e0 N\u1eb5ng\\n   - [Xem chi ti\u1ebft t\u1ea1i \u0111\u00e2y!](https://shopeefood.vn/da-nang/bun-dau-hang-khay-ton-duc-thang)\\n\\nCh\u00fac b\u1ea1n c\u00f3 m\u1ed9t b\u1eefa t\u1ed1i ngon mi\u1ec7ng v\u00e0 vui v\u1ebb! \ud83c\udf7d\ufe0f\u2728', additional_kwargs={}, response_metadata={}),\n",
              " HumanMessage(content='b\u1ea1n ngh\u0129 th\u1eddi ti\u1ebft 28.3\u00b0C n\u00ean \u0111i \u0103n nh\u00e0 h\u00e0ng chay \u00e0?', additional_kwargs={}, response_metadata={}),\n",
              " AIMessage(content='Th\u1eddi ti\u1ebft 28.3\u00b0C kh\u00e1 \u1ea5m \u00e1p, nh\u01b0ng kh\u00f4ng c\u00f3 l\u00fd do g\u00ec \u0111\u1ec3 kh\u00f4ng th\u01b0\u1edfng th\u1ee9c m\u00f3n chay n\u1ebfu b\u1ea1n th\u00edch! M\u00f3n chay th\u01b0\u1eddng nh\u1eb9 nh\u00e0ng v\u00e0 d\u1ec5 ti\u00eau h\u00f3a, r\u1ea5t ph\u00f9 h\u1ee3p cho nh\u1eefng bu\u1ed5i t\u1ed1i. Tuy nhi\u00ean, n\u1ebfu b\u1ea1n mu\u1ed1n m\u1ed9t b\u1eefa \u0103n \u0111\u1eadm \u0111\u00e0 h\u01a1n, b\u1ea1n c\u00f3 th\u1ec3 ch\u1ecdn c\u00e1c m\u00f3n h\u1ea3i s\u1ea3n, th\u1ecbt n\u01b0\u1edbng ho\u1eb7c c\u00e1c m\u00f3n \u0103n truy\u1ec1n th\u1ed1ng kh\u00e1c c\u1ee7a \u0110\u00e0 N\u1eb5ng. \\n\\nCu\u1ed1i c\u00f9ng, h\u00e3y ch\u1ecdn m\u00f3n \u0103n m\u00e0 b\u1ea1n c\u1ea3m th\u1ea5y th\u00e8m nh\u1ea5t! B\u1ea1n c\u00f3 th\u1ec3 \u0103n chay, \u0103n m\u1eb7n, hay th\u1eadm ch\u00ed l\u00e0 m\u1ed9t b\u1eefa ti\u1ec7c h\u1ea3i s\u1ea3n, mi\u1ec5n l\u00e0 b\u1ea1n th\u00edch! \ud83c\udf7d\ufe0f\ud83d\ude04', additional_kwargs={}, response_metadata={}),\n",
              " HumanMessage(content='v\u1edbi th\u1eddi ti\u1ebft hi\u1ec7n t\u1ea1i c\u1ee7a \u0110\u00e0 N\u1eb5ng th\u00ec ch\u00fang t\u00f4i n\u00ean \u0111i \u0103n m\u00f3n g\u00ec?', additional_kwargs={}, response_metadata={}),\n",
              " AIMessage(content='V\u1edbi th\u1eddi ti\u1ebft hi\u1ec7n t\u1ea1i \u1edf \u0110\u00e0 N\u1eb5ng l\u00e0 28.3\u00b0C, b\u1ea1n c\u00f3 th\u1ec3 th\u01b0\u1edfng th\u1ee9c m\u1ed9t s\u1ed1 m\u00f3n \u0103n ngon sau \u0111\u00e2y:\\n\\n1. **H\u1ea3i s\u1ea3n n\u01b0\u1edbng**: Th\u1eddi ti\u1ebft \u1ea5m \u00e1p r\u1ea5t th\u00edch h\u1ee3p \u0111\u1ec3 th\u01b0\u1edfng th\u1ee9c h\u1ea3i s\u1ea3n t\u01b0\u01a1i s\u1ed1ng nh\u01b0 t\u00f4m, m\u1ef1c, c\u00e1 n\u01b0\u1edbng. H\u00e3y t\u00ecm m\u1ed9t qu\u00e1n h\u1ea3i s\u1ea3n ven bi\u1ec3n \u0111\u1ec3 v\u1eeba \u0103n v\u1eeba ng\u1eafm c\u1ea3nh!\\n\\n2. **M\u00ec Qu\u1ea3ng**: M\u1ed9t m\u00f3n \u0111\u1eb7c s\u1ea3n n\u1ed5i ti\u1ebfng c\u1ee7a \u0110\u00e0 N\u1eb5ng, m\u00ec Qu\u1ea3ng c\u00f3 h\u01b0\u01a1ng v\u1ecb \u0111\u1eadm \u0111\u00e0, th\u01b0\u1eddng \u0111\u01b0\u1ee3c \u0103n k\u00e8m v\u1edbi t\u00f4m, th\u1ecbt g\u00e0 ho\u1eb7c th\u1ecbt heo.\\n\\n3. **B\u00e1nh tr\u00e1ng cu\u1ed1n th\u1ecbt heo**: M\u00f3n \u0103n n\u00e0y r\u1ea5t ngon v\u00e0 d\u1ec5 \u0103n, b\u1ea1n c\u00f3 th\u1ec3 cu\u1ed1n b\u00e1nh tr\u00e1ng v\u1edbi th\u1ecbt heo, rau s\u1ed1ng v\u00e0 ch\u1ea5m v\u1edbi m\u1eafm n\u00eam.\\n\\n4. **B\u00e1nh x\u00e8o**: M\u00f3n b\u00e1nh x\u00e8o gi\u00f2n r\u1ee5m, nh\u00e2n t\u00f4m, th\u1ecbt v\u00e0 gi\u00e1 \u0111\u1ed7, \u0103n k\u00e8m v\u1edbi rau s\u1ed1ng v\u00e0 n\u01b0\u1edbc ch\u1ea5m.\\n\\n5. **Ch\u00e8**: \u0110\u1ec3 gi\u1ea3i nhi\u1ec7t, b\u1ea1n c\u00f3 th\u1ec3 th\u01b0\u1edfng th\u1ee9c m\u1ed9t ly ch\u00e8 m\u00e1t l\u1ea1nh, c\u00f3 th\u1ec3 l\u00e0 ch\u00e8 \u0111\u1eadu xanh, ch\u00e8 b\u01b0\u1edfi ho\u1eb7c ch\u00e8 th\u1eadp c\u1ea9m.\\n\\nCh\u00fac b\u1ea1n c\u00f3 m\u1ed9t b\u1eefa \u0103n ngon mi\u1ec7ng v\u00e0 th\u00fa v\u1ecb! \ud83c\udf7d\ufe0f\u2728', additional_kwargs={}, response_metadata={}),\n",
              " HumanMessage(content='Hello. How are you?', additional_kwargs={}, response_metadata={}),\n",
              " AIMessage(content=\"Hello! I'm doing great, thanks for asking! How about you? Ready to tackle some questions or just looking for some fun? \ud83d\ude04\", additional_kwargs={}, response_metadata={})]"
            ]
          },
          "execution_count": 19,
          "metadata": {},
          "output_type": "execute_result"
        }
      ],
      "source": [
        "memory.get_chat_history()"
      ]
    },
    {
      "cell_type": "code",
      "execution_count": 9,
      "id": "68564b08-cbc0-46d3-8611-30734698d96b",
      "metadata": {},
      "outputs": [],
      "source": [
        "chat_history = memory.get_chat_history()"
      ]
    },
    {
      "cell_type": "code",
      "execution_count": 10,
      "id": "d1b82799-0610-477a-826c-e0157d384586",
      "metadata": {},
      "outputs": [
        {
          "data": {
            "text/plain": [
              "{'token': 'cCv81NpxRPl2XULlspLpG6G0',\n",
              " 'team_id': 'T03M5H47GTA',\n",
              " 'context_team_id': 'T03M5H47GTA',\n",
              " 'context_enterprise_id': None,\n",
              " 'api_app_id': 'A04QQ71854Z',\n",
              " 'event': {'user': 'U03L983URML',\n",
              "  'type': 'message',\n",
              "  'ts': '1728223597.012949',\n",
              "  'client_msg_id': '515a2e36-0717-4e3f-bee0-20492fb55b47',\n",
              "  'text': 'hello',\n",
              "  'team': 'T03M5H47GTA',\n",
              "  'blocks': [{'type': 'rich_text',\n",
              "    'block_id': 'ZL1yL',\n",
              "    'elements': [{'type': 'rich_text_section',\n",
              "      'elements': [{'type': 'text', 'text': 'hello'}]}]}],\n",
              "  'channel': 'D04Q8KQ55QD',\n",
              "  'event_ts': '1728223597.012949',\n",
              "  'channel_type': 'im'},\n",
              " 'type': 'event_callback',\n",
              " 'event_id': 'Ev07QLD2KYRH',\n",
              " 'event_time': 1728223597,\n",
              " 'authorizations': [{'enterprise_id': None,\n",
              "   'team_id': 'T03M5H47GTA',\n",
              "   'user_id': 'U04QBEEHZD1',\n",
              "   'is_bot': True,\n",
              "   'is_enterprise_install': False}],\n",
              " 'is_ext_shared_channel': False,\n",
              " 'event_context': '4-eyJldCI6Im1lc3NhZ2UiLCJ0aWQiOiJUMDNNNUg0N0dUQSIsImFpZCI6IkEwNFFRNzE4NTRaIiwiY2lkIjoiRDA0UThLUTU1UUQifQ'}"
            ]
          },
          "execution_count": 10,
          "metadata": {},
          "output_type": "execute_result"
        }
      ],
      "source": [
        "context = {'token': 'cCv81NpxRPl2XULlspLpG6G0', 'team_id': 'T03M5H47GTA', 'context_team_id': 'T03M5H47GTA', 'context_enterprise_id': None, 'api_app_id': 'A04QQ71854Z', 'event': {'user': 'U03L983URML', 'type': 'message', 'ts': '1728223597.012949', 'client_msg_id': '515a2e36-0717-4e3f-bee0-20492fb55b47', 'text': 'hello', 'team': 'T03M5H47GTA', 'blocks': [{'type': 'rich_text', 'block_id': 'ZL1yL', 'elements': [{'type': 'rich_text_section', 'elements': [{'type': 'text', 'text': 'hello'}]}]}], 'channel': 'D04Q8KQ55QD', 'event_ts': '1728223597.012949', 'channel_type': 'im'}, 'type': 'event_callback', 'event_id': 'Ev07QLD2KYRH', 'event_time': 1728223597, 'authorizations': [{'enterprise_id': None, 'team_id': 'T03M5H47GTA', 'user_id': 'U04QBEEHZD1', 'is_bot': True, 'is_enterprise_install': False}], 'is_ext_shared_channel': False, 'event_context': '4-eyJldCI6Im1lc3NhZ2UiLCJ0aWQiOiJUMDNNNUg0N0dUQSIsImFpZCI6IkEwNFFRNzE4NTRaIiwiY2lkIjoiRDA0UThLUTU1UUQifQ'}\n",
        "context\n"
      ]
    },
    {
      "cell_type": "code",
      "execution_count": 7,
      "id": "55ae3c88-8b41-4cd4-b4c4-e38d6a4c50c0",
      "metadata": {},
      "outputs": [],
      "source": [
        "from core.ai.agents.slack_agent import SlackAgent\n",
        "\n",
        "slack_agent = SlackAgent()"
      ]
    },
    {
      "cell_type": "code",
      "execution_count": 13,
      "id": "ad742086-6e04-441c-baf2-5cebc9a3b0f6",
      "metadata": {},
      "outputs": [
        {
          "name": "stderr",
          "output_type": "stream",
          "text": [
            "Error in StdOutCallbackHandler.on_chain_start callback: AttributeError(\"'NoneType' object has no attribute 'get'\")\n"
          ]
        },
        {
          "name": "stdout",
          "output_type": "stream",
          "text": [
            "\u001b[32;1m\u001b[1;3mHello! I'm doing great, thanks for asking! How about you? Ready to tackle some questions or just looking for some fun? \ud83d\ude04\u001b[0m\n",
            "\n",
            "\u001b[1m> Finished chain.\u001b[0m\n"
          ]
        }
      ],
      "source": [
        "text = \"Hello. How are you?\"\n",
        "result = slack_agent.invoke(\n",
        "     input={\n",
        "            \"input\": text,\n",
        "            \"chat_history\": chat_history,\n",
        "        },\n",
        ")"
      ]
    },
    {
      "cell_type": "code",
      "execution_count": 14,
      "id": "64873106",
      "metadata": {},
      "outputs": [],
      "source": [
        "memory.get_memory().save_context(\n",
        "        {\"input\": text},\n",
        "        {\"output\": result['output']}\n",
        "    )"
      ]
    },
    {
      "cell_type": "code",
      "execution_count": null,
      "id": "3d72c7b1",
      "metadata": {},
      "outputs": [],
      "source": []
    }
  ],
  "metadata": {
    "kernelspec": {
      "display_name": "langchain-slack-bot-R1kMfg3g-py3.10",
      "language": "python",
      "name": "python3"
    },
    "language_info": {
      "codemirror_mode": {
        "name": "ipython",
        "version": 3
      },
      "file_extension": ".py",
      "mimetype": "text/x-python",
      "name": "python",
      "nbconvert_exporter": "python",
      "pygments_lexer": "ipython3",
      "version": "3.10.14"
    }
  },
  "nbformat": 4,
  "nbformat_minor": 5
}
