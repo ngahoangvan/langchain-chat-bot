{
  "cells": [
    {
      "cell_type": "code",
      "execution_count": 2,
      "metadata": {},
      "outputs": [],
      "source": [
        "import os\n",
        "import sys\n",
        "\n",
        "sys.path.append(os.path.abspath(os.path.join(os.getcwd(), os.pardir)))"
      ]
    },
    {
      "cell_type": "code",
      "execution_count": 3,
      "metadata": {},
      "outputs": [
        {
          "data": {
            "text/plain": [
              "True"
            ]
          },
          "execution_count": 3,
          "metadata": {},
          "output_type": "execute_result"
        }
      ],
      "source": [
        "from dotenv import load_dotenv\n",
        "\n",
        "load_dotenv(override=True)\n"
      ]
    },
    {
      "cell_type": "code",
      "execution_count": 4,
      "metadata": {},
      "outputs": [],
      "source": [
        "from typing import List, Optional\n",
        "\n",
        "from langchain.text_splitter import RecursiveCharacterTextSplitter\n",
        "from langchain_community.document_loaders.sql_database import SQLDatabaseLoader\n",
        "from langchain_community.utilities.sql_database import SQLDatabase\n",
        "from langchain_openai import OpenAIEmbeddings\n",
        "from langchain_qdrant import QdrantVectorStore\n",
        "from qdrant_client import QdrantClient\n",
        "from sqlalchemy import Select\n",
        "\n",
        "from configs.common_config import settings\n",
        "from core.databases.db import engine\n",
        "from core.databases.models import Restaurant\n",
        "from core.enumerate import DatabaseSchema, EmbeddingModel\n",
        "\n"
      ]
    },
    {
      "cell_type": "code",
      "execution_count": 35,
      "metadata": {},
      "outputs": [],
      "source": [
        "\n",
        "\n",
        "class ShopeeKnowledgeBase:\n",
        "    def __init__(self) -> None:\n",
        "        # SQL loader\n",
        "        self.sql_database = SQLDatabase(\n",
        "            engine=engine,\n",
        "            schema=DatabaseSchema.SHOPEE.value,\n",
        "        )\n",
        "        # embeddings function\n",
        "        self.embeddings = OpenAIEmbeddings(\n",
        "            model=EmbeddingModel.EMBEDDING_ADA_V2.value\n",
        "        )\n",
        "        # qdrant setting\n",
        "        self.collection_name = \"shopee\"\n",
        "        self.qdrant_url = settings.QDRANT_URL\n",
        "        self.qdrant_port = settings.QDRANT_PORT\n",
        "        self.qdrant_grpc_port = settings.QDRANT_GRPC_PORT\n",
        "        self.qdrant_api_key = settings.QDRANT_API_KEY\n",
        "        self.qdrant_client = QdrantClient(\n",
        "            url=self.qdrant_url,\n",
        "            api_key=self.qdrant_api_key,\n",
        "            port=self.qdrant_port,\n",
        "            grpc_port=self.qdrant_grpc_port,\n",
        "            # prefer_grpc=True,\n",
        "            # https=None\n",
        "        )\n",
        "        self.retriever_search_kwargs = {\n",
        "            \"k\": 5,\n",
        "        }\n",
        "        self._vector_db = self.init_vector_db()\n",
        "\n",
        "    def init_vector_db(self):\n",
        "        if self.qdrant_client.collection_exists(self.collection_name):\n",
        "            return QdrantVectorStore.from_existing_collection(\n",
        "                collection_name=self.collection_name,\n",
        "                embedding=self.embeddings,\n",
        "                url=self.qdrant_url,\n",
        "                port=self.qdrant_port,\n",
        "                api_key=self.qdrant_api_key,\n",
        "                # prefer_grpc=True,\n",
        "            )\n",
        "        else:\n",
        "            # create new collection with empty documents\n",
        "            return QdrantVectorStore.from_documents(\n",
        "                documents=[],\n",
        "                embedding=self.embeddings,\n",
        "                url=self.qdrant_url,\n",
        "                port=self.qdrant_port,\n",
        "                api_key=self.qdrant_api_key,\n",
        "                collection_name=self.collection_name,\n",
        "                # prefer_grpc=True,\n",
        "            )\n",
        "\n",
        "    def load_data(self) -> None:\n",
        "        loader = SQLDatabaseLoader(\n",
        "            query=Select(Restaurant.name, Restaurant.address, Restaurant.url),\n",
        "            db=self.sql_database,\n",
        "        )\n",
        "        loaded_documents = loader.load()\n",
        "        return loaded_documents\n",
        "        \n",
        "\n",
        "    def split_documents(\n",
        "        self,\n",
        "        loaded_docs,\n",
        "        chunk_size: Optional[int] = 500,\n",
        "        chunk_overlap: Optional[int] = 20,\n",
        "    ):\n",
        "        splitter = RecursiveCharacterTextSplitter(\n",
        "            chunk_size=chunk_size,\n",
        "            chunk_overlap=chunk_overlap,\n",
        "        )\n",
        "        chunked_docs = splitter.split_documents(loaded_docs)\n",
        "        return chunked_docs\n",
        "\n",
        "    def initiate_document_injetion_pipeline(self):\n",
        "        loaded_docs = self.load_data()\n",
        "        chunked_docs = self.split_documents(loaded_docs)\n",
        "        self._vector_db = self._vector_db.from_documents(\n",
        "            documents=chunked_docs,\n",
        "            embedding=self.embeddings,\n",
        "            url=self.qdrant_url,\n",
        "            port=self.qdrant_port,\n",
        "            api_key=self.qdrant_api_key,\n",
        "            collection_name=self.collection_name,\n",
        "            # prefer_grpc=True,\n",
        "        )\n",
        "        return self._vector_db\n",
        "    \n",
        "    @property\n",
        "    def vector_store(self):\n",
        "        return self._vector_db\n",
        "    \n",
        "    @property\n",
        "    def retriever(self):\n",
        "        return self._vector_db.as_retriever(\n",
        "            search_kwargs=self.retriever_search_kwargs\n",
        "        )\n"
      ]
    },
    {
      "cell_type": "code",
      "execution_count": 36,
      "metadata": {},
      "outputs": [],
      "source": [
        "shopee_kb = ShopeeKnowledgeBase()\n"
      ]
    },
    {
      "cell_type": "code",
      "execution_count": 37,
      "metadata": {},
      "outputs": [],
      "source": [
        "retriver = shopee_kb.retriever"
      ]
    },
    {
      "cell_type": "code",
      "execution_count": 38,
      "metadata": {},
      "outputs": [],
      "source": [
        "data = retriver.invoke(\"Tr\u00e0 S\u1eefa Bobapop\")"
      ]
    },
    {
      "cell_type": "code",
      "execution_count": 39,
      "metadata": {},
      "outputs": [],
      "source": [
        "for i in data:\n",
        "    print(i.page_content)\n",
        "    print(\"\\n\")"
      ]
    },
    {
      "cell_type": "code",
      "execution_count": 34,
      "metadata": {},
      "outputs": [
        {
          "name": "stdout",
          "output_type": "stream",
          "text": [
            "name: Tr\u00e0 S\u1eefa Mambo Tea - 94 Phan Thanh\n",
            "address: 94 Phan Thanh, P. Th\u1ea1c Gi\u00e1n, Qu\u1eadn Thanh Kh\u00ea, \u0110\u00e0 N\u1eb5ng\n",
            "url: https://shopeefood.vn/da-nang/tra-sua-mambo-tea-94-phan-thanh\n",
            "\n",
            "name: Tr\u00e0 S\u1eefa QT - \u00c2u C\u01a1\n",
            "address: 77 \u00c2u C\u01a1, P. Ho\u00e0 Kh\u00e1nh B\u1eafc, Qu\u1eadn Li\u00ean Chi\u1ec3u, \u0110\u00e0 N\u1eb5ng\n",
            "url: https://shopeefood.vn/da-nang/tra-sua-qt-au-co\n",
            "\n",
            "name: Tr\u00e0 S\u1eefa Maycha - 302 \u00d4ng \u00cdch Khi\u00eam\n",
            "address: 302 \u00d4ng \u00cdch Khi\u00eam, P. T\u00e2n Ch\u00ednh, Qu\u1eadn Thanh Kh\u00ea, \u0110\u00e0 N\u1eb5ng\n",
            "url: https://shopeefood.vn/da-nang/tra-sua-maycha-302-ong-ich-khiem\n",
            "\n",
            "name: Ti\u1ec7m Tr\u00e0 15K - N\u00fai Th\u00e0nh\n",
            "address: 616 N\u00fai Th\u00e0nh, P. H\u00f2a C\u01b0\u1eddng Nam, Qu\u1eadn H\u1ea3i Ch\u00e2u, \u0110\u00e0 N\u1eb5ng\n",
            "url: https://shopeefood.vn/da-nang/tiem-tra-15k-nui-thanh\n"
          ]
        }
      ],
      "source": [
        "print(\"\\n\\n\".join([document.page_content for document in data]))"
      ]
    },
    {
      "cell_type": "code",
      "execution_count": 42,
      "metadata": {},
      "outputs": [],
      "source": [
        "from typing import Optional\n",
        "\n",
        "from langchain_core.tools import BaseTool\n",
        "from langchain_core.callbacks import (\n",
        "    AsyncCallbackManagerForToolRun,\n",
        "    CallbackManagerForToolRun\n",
        ")\n",
        "from pydantic import BaseModel, Field\n",
        "from typing import Type\n",
        "from core.ai.knowledge_base.shopee_kb import shopee_kb\n",
        "\n",
        "\n",
        "class ShopeeSearchInput(BaseModel):\n",
        "    \"\"\"Input for the Shopee tool.\"\"\"\n",
        "    query: str = Field(description=\"search query to look up\")\n",
        "\n",
        "\n",
        "class ShopeeSearch(BaseTool):\n",
        "    name: str = \"shopee_search\"\n",
        "    description: str = \"Useful when you need to find a resturant, food and drink on Shopee\"\n",
        "    args_schema: Type[BaseModel] = ShopeeSearchInput\n",
        "    verbose: bool = True\n",
        "    # shopee_kb: ShopeeKnowledgeBase = shopee_kb\n",
        "\n",
        "    def __init__(self, *args, **kwargs):\n",
        "        super().__init__(*args, **kwargs)\n",
        "        self.shopee_kb = shopee_kb\n",
        "\n",
        "    def _run(self, query: str, run_manager: Optional[CallbackManagerForToolRun] = None) -> str:\n",
        "        \"\"\"Run Shopee search and get restaurant information, food and drink.\"\"\"\n",
        "        retriever = shopee_kb.retriever\n",
        "        documents = retriever.invoke(input=query)\n",
        "        print(\"documents: \", documents)\n",
        "        return \"\\n\\n\".join([document.page_content for document in documents])\n",
        "\n",
        "    async def _arun(\n",
        "        self,\n",
        "        query: str,\n",
        "        run_manager: Optional[AsyncCallbackManagerForToolRun] = None,\n",
        "    ) -> str:\n",
        "        \"\"\"Use the tool asynchronously.\"\"\"\n",
        "        return self._run(query=query, run_manager=run_manager.get_sync())\n"
      ]
    },
    {
      "cell_type": "code",
      "execution_count": 43,
      "metadata": {},
      "outputs": [
        {
          "ename": "ValueError",
          "evalue": "\"ShopeeSearch\" object has no field \"shopee_kb\"",
          "output_type": "error",
          "traceback": [
            "\u001b[0;31m---------------------------------------------------------------------------\u001b[0m",
            "\u001b[0;31mValueError\u001b[0m                                Traceback (most recent call last)",
            "Cell \u001b[0;32mIn[43], line 1\u001b[0m\n\u001b[0;32m----> 1\u001b[0m shopee_search \u001b[38;5;241m=\u001b[39m \u001b[43mShopeeSearch\u001b[49m\u001b[43m(\u001b[49m\u001b[43m)\u001b[49m\n",
            "Cell \u001b[0;32mIn[42], line 27\u001b[0m, in \u001b[0;36mShopeeSearch.__init__\u001b[0;34m(self, *args, **kwargs)\u001b[0m\n\u001b[1;32m     25\u001b[0m \u001b[38;5;28;01mdef\u001b[39;00m \u001b[38;5;21m__init__\u001b[39m(\u001b[38;5;28mself\u001b[39m, \u001b[38;5;241m*\u001b[39margs, \u001b[38;5;241m*\u001b[39m\u001b[38;5;241m*\u001b[39mkwargs):\n\u001b[1;32m     26\u001b[0m     \u001b[38;5;28msuper\u001b[39m()\u001b[38;5;241m.\u001b[39m\u001b[38;5;21m__init__\u001b[39m(\u001b[38;5;241m*\u001b[39margs, \u001b[38;5;241m*\u001b[39m\u001b[38;5;241m*\u001b[39mkwargs)\n\u001b[0;32m---> 27\u001b[0m     \u001b[38;5;28;43mself\u001b[39;49m\u001b[38;5;241;43m.\u001b[39;49m\u001b[43mshopee_kb\u001b[49m \u001b[38;5;241m=\u001b[39m shopee_kb\n",
            "File \u001b[0;32m~/Library/Caches/pypoetry/virtualenvs/langchain-slack-bot-R1kMfg3g-py3.10/lib/python3.10/site-packages/pydantic/main.py:884\u001b[0m, in \u001b[0;36mBaseModel.__setattr__\u001b[0;34m(self, name, value)\u001b[0m\n\u001b[1;32m    881\u001b[0m     \u001b[38;5;28mself\u001b[39m\u001b[38;5;241m.\u001b[39m__pydantic_validator__\u001b[38;5;241m.\u001b[39mvalidate_assignment(\u001b[38;5;28mself\u001b[39m, name, value)\n\u001b[1;32m    882\u001b[0m \u001b[38;5;28;01melif\u001b[39;00m \u001b[38;5;28mself\u001b[39m\u001b[38;5;241m.\u001b[39mmodel_config\u001b[38;5;241m.\u001b[39mget(\u001b[38;5;124m'\u001b[39m\u001b[38;5;124mextra\u001b[39m\u001b[38;5;124m'\u001b[39m) \u001b[38;5;241m!=\u001b[39m \u001b[38;5;124m'\u001b[39m\u001b[38;5;124mallow\u001b[39m\u001b[38;5;124m'\u001b[39m \u001b[38;5;129;01mand\u001b[39;00m name \u001b[38;5;129;01mnot\u001b[39;00m \u001b[38;5;129;01min\u001b[39;00m \u001b[38;5;28mself\u001b[39m\u001b[38;5;241m.\u001b[39mmodel_fields:\n\u001b[1;32m    883\u001b[0m     \u001b[38;5;66;03m# TODO - matching error\u001b[39;00m\n\u001b[0;32m--> 884\u001b[0m     \u001b[38;5;28;01mraise\u001b[39;00m \u001b[38;5;167;01mValueError\u001b[39;00m(\u001b[38;5;124mf\u001b[39m\u001b[38;5;124m'\u001b[39m\u001b[38;5;124m\"\u001b[39m\u001b[38;5;132;01m{\u001b[39;00m\u001b[38;5;28mself\u001b[39m\u001b[38;5;241m.\u001b[39m\u001b[38;5;18m__class__\u001b[39m\u001b[38;5;241m.\u001b[39m\u001b[38;5;18m__name__\u001b[39m\u001b[38;5;132;01m}\u001b[39;00m\u001b[38;5;124m\"\u001b[39m\u001b[38;5;124m object has no field \u001b[39m\u001b[38;5;124m\"\u001b[39m\u001b[38;5;132;01m{\u001b[39;00mname\u001b[38;5;132;01m}\u001b[39;00m\u001b[38;5;124m\"\u001b[39m\u001b[38;5;124m'\u001b[39m)\n\u001b[1;32m    885\u001b[0m \u001b[38;5;28;01melif\u001b[39;00m \u001b[38;5;28mself\u001b[39m\u001b[38;5;241m.\u001b[39mmodel_config\u001b[38;5;241m.\u001b[39mget(\u001b[38;5;124m'\u001b[39m\u001b[38;5;124mextra\u001b[39m\u001b[38;5;124m'\u001b[39m) \u001b[38;5;241m==\u001b[39m \u001b[38;5;124m'\u001b[39m\u001b[38;5;124mallow\u001b[39m\u001b[38;5;124m'\u001b[39m \u001b[38;5;129;01mand\u001b[39;00m name \u001b[38;5;129;01mnot\u001b[39;00m \u001b[38;5;129;01min\u001b[39;00m \u001b[38;5;28mself\u001b[39m\u001b[38;5;241m.\u001b[39mmodel_fields:\n\u001b[1;32m    886\u001b[0m     \u001b[38;5;28;01mif\u001b[39;00m \u001b[38;5;28mself\u001b[39m\u001b[38;5;241m.\u001b[39mmodel_extra \u001b[38;5;129;01mand\u001b[39;00m name \u001b[38;5;129;01min\u001b[39;00m \u001b[38;5;28mself\u001b[39m\u001b[38;5;241m.\u001b[39mmodel_extra:\n",
            "\u001b[0;31mValueError\u001b[0m: \"ShopeeSearch\" object has no field \"shopee_kb\""
          ]
        }
      ],
      "source": [
        "shopee_search = ShopeeSearch()"
      ]
    },
    {
      "cell_type": "code",
      "execution_count": null,
      "metadata": {},
      "outputs": [],
      "source": []
    }
  ],
  "metadata": {
    "kernelspec": {
      "display_name": "langchain-slack-bot-R1kMfg3g-py3.10",
      "language": "python",
      "name": "python3"
    },
    "language_info": {
      "codemirror_mode": {
        "name": "ipython",
        "version": 3
      },
      "file_extension": ".py",
      "mimetype": "text/x-python",
      "name": "python",
      "nbconvert_exporter": "python",
      "pygments_lexer": "ipython3",
      "version": "3.10.14"
    }
  },
  "nbformat": 4,
  "nbformat_minor": 2
}
