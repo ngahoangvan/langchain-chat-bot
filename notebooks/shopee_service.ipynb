{
 "cells": [
  {
   "cell_type": "code",
   "execution_count": 1,
   "id": "2cd54b3c-6ba8-41c3-aec9-11924fe46555",
   "metadata": {},
   "outputs": [],
   "source": [
    "import os\n",
    "import sys\n",
    "\n",
    "sys.path.append(os.path.abspath(os.path.join(os.getcwd(), os.pardir)))"
   ]
  },
  {
   "cell_type": "code",
   "execution_count": 2,
   "id": "064536a5-05a0-4183-bd7f-fafbd274c979",
   "metadata": {},
   "outputs": [],
   "source": [
    "import json \n",
    "from core.services.base_api import BaseAPIService\n",
    "from core.loggers import configure_logging\n",
    "from core.utils.common_utils import join_paths\n",
    "from sqlalchemy.orm import Session\n",
    "from fastapi import Depends\n",
    "from core.databases.db import get_db\n"
   ]
  },
  {
   "cell_type": "code",
   "execution_count": 3,
   "id": "25db2c0d-11bb-404b-aba9-b5fa778078f5",
   "metadata": {},
   "outputs": [],
   "source": [
    "logger = configure_logging(__name__)\n",
    "\n",
    "\n",
    "class ShopeeAPIService(BaseAPIService):\n",
    "    def __init__(self):\n",
    "        super().__init__()\n",
    "        self.shopee_api_url = \"https://gappapi.deliverynow.vn/\"\n",
    "        self.city_id = 219 # Da Nang\n",
    "\n",
    "    @property\n",
    "    def headers(self):\n",
    "        return {\n",
    "            'X-Foody-Access-Token': '',\n",
    "            'X-Foody-Api-Version': '1',\n",
    "            'X-Foody-App-Type': '1004',\n",
    "            'X-Foody-Client-Id': '',\n",
    "            'X-Foody-Client-Language': 'vi',\n",
    "            'X-Foody-Client-Type': '1',\n",
    "            'X-Foody-Client-Version': '3.0.0',\n",
    "            'Content-Type': 'application/json'\n",
    "        }\n",
    "\n",
    "    def get_ids(self):\n",
    "        response = self.post(\n",
    "            endpoint=join_paths(self.shopee_api_url, \"api/promotion/get_ids\"),\n",
    "            headers=self.headers,\n",
    "            json={\n",
    "                \"city_id\": self.city_id,\n",
    "                \"foody_service_id\": 1,\n",
    "                \"promotion_status\": 1,\n",
    "                \"sort_type\": 0\n",
    "            }\n",
    "        )\n",
    "        ids = response['reply']['promotion_ids']\n",
    "        return ids\n",
    "\n",
    "    def get_restaurant_infos(self):\n",
    "        promotion_ids = self.get_ids()\n",
    "        response = self.post(\n",
    "            endpoint=join_paths(self.shopee_api_url, \"api/promotion/get_infos\"),\n",
    "            headers=self.headers,\n",
    "            json={\n",
    "                \"promotion_ids\": promotion_ids,\n",
    "            }\n",
    "        )\n",
    "        data = response['reply']['promotion_infos']\n",
    "        return data\n",
    "    "
   ]
  },
  {
   "cell_type": "code",
   "execution_count": 4,
   "id": "ccbb9a0f-2b8f-417a-bb9d-e6fc52003a28",
   "metadata": {},
   "outputs": [],
   "source": [
    "# service = ShopeeAPIService()\n",
    "# restaurant_info =  service.get_restaurant_infos()\n",
    "\n",
    "# with open('data.json', 'w') as f:\n",
    "#     f.write(json.dumps(restaurant_info))"
   ]
  },
  {
   "cell_type": "code",
   "execution_count": 5,
   "id": "3684a556-ba5d-4bcb-82fb-bf0495bb0f4c",
   "metadata": {
    "scrolled": true
   },
   "outputs": [],
   "source": [
    "with open('data.json', 'r') as f:\n",
    "    restaurant_info = json.loads(f.read())"
   ]
  },
  {
   "cell_type": "code",
   "execution_count": 6,
   "id": "da8e42a5-f5cf-4014-85a2-8b439f571334",
   "metadata": {},
   "outputs": [],
   "source": [
    "db: Session = next(get_db())"
   ]
  },
  {
   "cell_type": "code",
   "execution_count": 7,
   "id": "7d8a55b1-6056-4b88-8ec2-d142da0c28db",
   "metadata": {},
   "outputs": [],
   "source": [
    "from core.databases.models.shopee import Restaurant"
   ]
  },
  {
   "cell_type": "code",
   "execution_count": 8,
   "id": "10966158-4129-4baa-a05f-44c99144e32c",
   "metadata": {},
   "outputs": [
    {
     "data": {
      "text/plain": [
       "[]"
      ]
     },
     "execution_count": 8,
     "metadata": {},
     "output_type": "execute_result"
    }
   ],
   "source": [
    "db.query(Restaurant).all()"
   ]
  },
  {
   "cell_type": "code",
   "execution_count": 9,
   "id": "4ad814d9-3788-4363-9626-eb98bcd89224",
   "metadata": {},
   "outputs": [],
   "source": [
    "restaurants = [\n",
    "    dict(\n",
    "        id=info['restaurant_info']['id'],\n",
    "                name=info['restaurant_info']['name'],\n",
    "                total_order=info['restaurant_info']['total_order'],\n",
    "                city_id=info['restaurant_info']['city_id'],\n",
    "                restaurant_id=info['restaurant_info']['restaurant_id'],\n",
    "                restaurant_url=info['restaurant_info']['restaurant_url'],\n",
    "                logo_mms_img_id=info['restaurant_info']['logo_mms_img_id'],\n",
    "                brand_id=info['restaurant_info']['brand_id'],\n",
    "                is_open=info['restaurant_info']['is_open'],\n",
    "                contract_type=info['restaurant_info']['contract_type'],\n",
    "                location_url=info['restaurant_info']['location_url'],\n",
    "                has_contract=info['restaurant_info']['has_contract'],\n",
    "                is_quality_merchant=info['restaurant_info']['is_quality_merchant'],\n",
    "                merchant_time=info['restaurant_info']['merchant_time'],\n",
    "                service_type=info['restaurant_info']['service_type'],\n",
    "                url_rewrite_name=info['restaurant_info']['url_rewrite_name'],\n",
    "                is_foody_delivery=info['restaurant_info']['is_foody_delivery'],\n",
    "                address=info['restaurant_info']['address'],\n",
    "                foody_service_id=info['restaurant_info']['foody_service_id'],\n",
    "                url=info['restaurant_info']['url'],\n",
    "                display_order=info['restaurant_info']['display_order'],\n",
    "                delivery_id=info['restaurant_info']['delivery_id'],\n",
    "                is_pickup=info['restaurant_info']['is_pickup'],\n",
    "                banner_mms_img_id=info['restaurant_info']['banner_mms_img_id'],\n",
    "                latitude=info['restaurant_info']['position']['latitude'],\n",
    "                longitude=info['restaurant_info']['position']['longitude'],\n",
    "                is_verified=info['restaurant_info']['position']['is_verified'],\n",
    "                district_id=info['restaurant_info']['district_id'],\n",
    "                limit_distance=info['restaurant_info']['limit_distance'],\n",
    "                restaurant_status=info['restaurant_info']['restaurant_status'],\n",
    "                image_name=info['restaurant_info']['image_name'],\n",
    "    ) for info in restaurant_info\n",
    "]"
   ]
  },
  {
   "cell_type": "code",
   "execution_count": 10,
   "id": "e6a0aa68-4277-44f9-afa2-ad095f6f0875",
   "metadata": {},
   "outputs": [],
   "source": [
    "db.bulk_insert_mappings(mapper=Restaurant, mappings=restaurants)"
   ]
  },
  {
   "cell_type": "code",
   "execution_count": 17,
   "id": "4c76587c-7a78-4980-9408-3d714abcab69",
   "metadata": {},
   "outputs": [],
   "source": []
  },
  {
   "cell_type": "code",
   "execution_count": 11,
   "id": "d090d2b2-9ba2-47f2-b17b-01ba31ca4528",
   "metadata": {},
   "outputs": [],
   "source": [
    "restaurant = db.query(Restaurant).first()"
   ]
  },
  {
   "cell_type": "code",
   "execution_count": 12,
   "id": "44508c34-ed00-4eb0-8450-6cc3495e2918",
   "metadata": {},
   "outputs": [
    {
     "data": {
      "text/plain": [
       "{'_sa_instance_state': <sqlalchemy.orm.state.InstanceState at 0x122832740>,\n",
       " 'city_id': 219,\n",
       " 'has_contract': True,\n",
       " 'address': '23 Xô Viết Nghệ Tĩnh, P. Hòa Cường Nam, Quận Hải Châu, Đà Nẵng',\n",
       " 'is_pickup': False,\n",
       " 'restaurant_id': 135257,\n",
       " 'is_quality_merchant': False,\n",
       " 'name': 'Tứ Hải Quán - Cơm Gà & Cơm Sườn',\n",
       " 'banner_mms_img_id': 'vn-11134513-7r98o-lsttvkvjwkw44a',\n",
       " 'district_id': 31,\n",
       " 'merchant_time': 12,\n",
       " 'foody_service_id': 1,\n",
       " 'url_rewrite_name': 'tu-hai-quan-com-ga-com-suon',\n",
       " 'logo_mms_img_id': 'vn-11134513-7r98o-lsttvlgn1py1d6',\n",
       " 'service_type': 1,\n",
       " 'url': 'https://shopeefood.vn/da-nang/tu-hai-quan-com-ga-com-suon',\n",
       " 'latitude': 16.03270977,\n",
       " 'brand_id': 1597,\n",
       " 'is_foody_delivery': True,\n",
       " 'display_order': 11568,\n",
       " 'longitude': 108.22325934,\n",
       " 'id': 12018,\n",
       " 'is_open': True,\n",
       " 'limit_distance': 20000,\n",
       " 'delivery_id': 12018,\n",
       " 'is_verified': True,\n",
       " 'contract_type': 1,\n",
       " 'image_name': 'foody-upload-api-foody-mobile-9-191014135205.jpg',\n",
       " 'restaurant_url': 'tu-hai-quan-com-ga-com-suon',\n",
       " 'total_order': 0,\n",
       " 'location_url': 'da-nang',\n",
       " 'restaurant_status': 2,\n",
       " 'rating': None,\n",
       " 'operating': None,\n",
       " 'label': None,\n",
       " 'brand': None,\n",
       " 'promotions': [],\n",
       " 'photos': [],\n",
       " 'shipping_methods': []}"
      ]
     },
     "execution_count": 12,
     "metadata": {},
     "output_type": "execute_result"
    }
   ],
   "source": [
    "restaurant.__dict__"
   ]
  },
  {
   "cell_type": "code",
   "execution_count": 13,
   "id": "6db79d32-8176-49d7-bad8-249e56feef51",
   "metadata": {},
   "outputs": [],
   "source": [
    "db.commit()"
   ]
  },
  {
   "cell_type": "code",
   "execution_count": null,
   "id": "39194cc2-0969-47b2-9920-96ec2628172f",
   "metadata": {},
   "outputs": [],
   "source": []
  }
 ],
 "metadata": {
  "kernelspec": {
   "display_name": "Python 3 (ipykernel)",
   "language": "python",
   "name": "python3"
  },
  "language_info": {
   "codemirror_mode": {
    "name": "ipython",
    "version": 3
   },
   "file_extension": ".py",
   "mimetype": "text/x-python",
   "name": "python",
   "nbconvert_exporter": "python",
   "pygments_lexer": "ipython3",
   "version": "3.10.14"
  }
 },
 "nbformat": 4,
 "nbformat_minor": 5
}
